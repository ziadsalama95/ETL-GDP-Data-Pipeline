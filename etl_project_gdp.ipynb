{
 "cells": [
  {
   "cell_type": "markdown",
   "id": "048a54b8-f9ac-4895-95cb-76a71d6cdbfe",
   "metadata": {},
   "source": [
    "# ETL-GDP-Data-Pipeline\n",
    "\n",
    "In this notebook, we will create an ETL pipeline that extracts GDP data from a website, transforms it and loads it into both a CSV file and a database. We will also run a query on the database to find countries with GDPs over 100 billion USD and log the entire process.\n",
    "\n",
    "## Objectives\n",
    "- Extract relevant GDP information from a website.\n",
    "- Transform the data from USD (Millions) to USD (Billions).\n",
    "- Load the transformed data into a CSV file and a SQLite database.\n",
    "- Query the database to find countries with GDPs over 100 billion USD.\n",
    "- Log the entire ETL process."
   ]
  },
  {
   "cell_type": "markdown",
   "id": "54237e38-e6b9-4d58-8ff5-0f0dfe66cafd",
   "metadata": {},
   "source": [
    "## 1. Importing Required Libraries"
   ]
  },
  {
   "cell_type": "code",
   "execution_count": 3,
   "id": "5941b99f-6de4-4c4e-b2df-224d69a7f611",
   "metadata": {
    "tags": []
   },
   "outputs": [],
   "source": [
    "from bs4 import BeautifulSoup\n",
    "import requests\n",
    "import pandas as pd\n",
    "import numpy as np\n",
    "import sqlite3\n",
    "from datetime import datetime"
   ]
  },
  {
   "cell_type": "markdown",
   "id": "41c13189-1320-4306-b37f-f643b9da2192",
   "metadata": {
    "tags": []
   },
   "source": [
    "## 2. Defining Functions"
   ]
  },
  {
   "cell_type": "markdown",
   "id": "1d7e4e47-aed0-4618-baa6-1083ae8d935d",
   "metadata": {},
   "source": [
    "### 2.1. Data Extraction Function\n",
    "This function extracts the required information from the website and saves it to a dataframe. The function returns the dataframe for further processing."
   ]
  },
  {
   "cell_type": "code",
   "execution_count": 13,
   "id": "444e2b20-c792-47ab-afb8-a14e41a54b22",
   "metadata": {
    "tags": []
   },
   "outputs": [],
   "source": [
    "def extract(url, table_attribs):\n",
    "    page = requests.get(url).text\n",
    "    soup = BeautifulSoup(page, 'html.parser')\n",
    "    df = pd.DataFrame(columns=table_attribs)\n",
    "    tables = soup.find_all('tbody')[2]\n",
    "    rows = tables.find_all('tr')\n",
    "    for row in rows[3:]:\n",
    "        cells = row.find_all('td')\n",
    "        country = cells[0].text\n",
    "        gdp_usd_millions = cells[1].text\n",
    "        if gdp_usd_millions != '—':    \n",
    "            data_dict = {\n",
    "                \"Country\": country,\n",
    "                \"GDP_USD_millions\": gdp_usd_millions\n",
    "            }\n",
    "            df1 = pd.DataFrame(data_dict, index=[0])\n",
    "            df = pd.concat([df,df1], ignore_index=True)\n",
    "    return df"
   ]
  },
  {
   "cell_type": "markdown",
   "id": "5bf1db5e-d530-4a7d-befd-e68cb42d4e3a",
   "metadata": {
    "tags": []
   },
   "source": [
    "### 2.2. Data Transformation Function\n",
    "This function converts the GDP information from currency format to float value and transforms the information of GDP from USD (Millions) to USD (Billions), rounding to 2 decimal places."
   ]
  },
  {
   "cell_type": "code",
   "execution_count": 16,
   "id": "5b4eaa12-7b72-48ee-a62b-b1377761758d",
   "metadata": {
    "tags": []
   },
   "outputs": [],
   "source": [
    "def transform(df):\n",
    "    GDP_list = df[\"GDP_USD_millions\"].tolist()\n",
    "    GDP_list = [float(x.replace(',', '')) for x in GDP_list]\n",
    "    GDP_list = [np.round(x/1000,2) for x in GDP_list]\n",
    "    df[\"GDP_USD_millions\"] = GDP_list\n",
    "    df = df.rename(columns={\"GDP_USD_millions\": \"GDP_USD_billions\"})\n",
    "    return df"
   ]
  },
  {
   "cell_type": "markdown",
   "id": "80f5e900-f680-4a61-a094-f1340ad846bf",
   "metadata": {},
   "source": [
    "### 2.3. Loading Data to CSV\n",
    "This function saves the final dataframe as a CSV file in the provided path."
   ]
  },
  {
   "cell_type": "code",
   "execution_count": 19,
   "id": "2940b68b-dd33-4fd8-8469-6160740b9d04",
   "metadata": {
    "tags": []
   },
   "outputs": [],
   "source": [
    "def load_to_csv(df, csv_path):\n",
    "    df.to_csv(csv_path, index=False)"
   ]
  },
  {
   "cell_type": "markdown",
   "id": "3606f550-9c76-4d3c-97a8-45354e20c60e",
   "metadata": {},
   "source": [
    "### 2.4. Loading Data to Database\n",
    "This function saves the final dataframe as a database table with the provided name."
   ]
  },
  {
   "cell_type": "code",
   "execution_count": 22,
   "id": "55d7f96a-35a8-4275-9001-a3b2f7bec4a9",
   "metadata": {
    "tags": []
   },
   "outputs": [],
   "source": [
    "def load_to_db(df, sql_connection, table_name):\n",
    "    df.to_sql(table_name, sql_connection, if_exists='replace', index=False)"
   ]
  },
  {
   "cell_type": "markdown",
   "id": "0273c549-6809-4dad-9571-66f37d834a26",
   "metadata": {},
   "source": [
    "### 2.5. Running a Query on the Database\n",
    "This function runs the stated query on the database table and prints the output on the terminal."
   ]
  },
  {
   "cell_type": "code",
   "execution_count": 27,
   "id": "41b47bc1-c4f6-48f1-8292-88cb8cada9e5",
   "metadata": {
    "tags": []
   },
   "outputs": [],
   "source": [
    "def run_query(query_statement, sql_connection):\n",
    "    query_output = pd.read_sql(query_statement, sql_connection)\n",
    "    print(query_output)"
   ]
  },
  {
   "cell_type": "markdown",
   "id": "206101c9-6b62-4fee-8839-e96faa9fc433",
   "metadata": {},
   "source": [
    "### 2.6. Logging the Process\n",
    "This function logs the mentioned message at a given stage of the code execution to a log file."
   ]
  },
  {
   "cell_type": "code",
   "execution_count": 30,
   "id": "46a6dabd-1128-421f-a8a3-fca3ded285a7",
   "metadata": {
    "tags": []
   },
   "outputs": [],
   "source": [
    "def log_progress(message):\n",
    "    timestamp_format = '%Y-%b-%d-%H:%M:%S' # Year-Monthname-Day-Hour-Minute-Second \n",
    "    now = datetime.now() # get current timestamp \n",
    "    timestamp = now.strftime(timestamp_format) \n",
    "    with open(\"./etl_project_log.txt\", \"a\") as f: \n",
    "        f.write(timestamp + ' : ' + message + '\\n')"
   ]
  },
  {
   "cell_type": "markdown",
   "id": "9499999c-8a40-4da7-80fe-02bf6345b274",
   "metadata": {},
   "source": [
    "## 3. Setting Up the ETL Process\n",
    "Now that the functions are defined, we will set up the ETL process by calling these functions in sequence."
   ]
  },
  {
   "cell_type": "code",
   "execution_count": 33,
   "id": "df6f6153-93f0-473c-aafc-d572bdb3336d",
   "metadata": {
    "tags": []
   },
   "outputs": [],
   "source": [
    "# Define variables\n",
    "url = 'https://en.wikipedia.org/wiki/List_of_countries_by_GDP_(nominal)'\n",
    "table_attribs = [\"Country\", \"GDP_USD_millions\"]\n",
    "db_name = 'World_Economies.db'\n",
    "table_name = 'Countries_by_GDP'\n",
    "csv_path = './Countries_by_GDP.csv'\n",
    "\n",
    "# Start the ETL process\n",
    "log_progress('Preliminaries complete. Initiating ETL process.')\n",
    "\n",
    "# Extract data\n",
    "df = extract(url, table_attribs)\n",
    "log_progress('Data extraction complete. Initiating Transformation process.')\n",
    "\n",
    "# Transform data\n",
    "df = transform(df)\n",
    "log_progress('Data transformation complete. Initiating loading process.')\n",
    "\n",
    "# Load data to CSV\n",
    "load_to_csv(df, csv_path)\n",
    "log_progress('Data saved to CSV file.')\n",
    "\n",
    "# Load data to Database\n",
    "sql_connection = sqlite3.connect(db_name)\n",
    "log_progress('SQL Connection initiated.')\n",
    "\n",
    "load_to_db(df, sql_connection, table_name)\n",
    "log_progress('Data loaded to Database as table. Running the query.')"
   ]
  },
  {
   "cell_type": "markdown",
   "id": "f6b47aca-8507-4b31-ba40-b993933cd490",
   "metadata": {},
   "source": [
    "## 4. Querying the Database\n",
    "We will now run a query to display countries with GDPs over 100 billion USD."
   ]
  },
  {
   "cell_type": "code",
   "execution_count": 37,
   "id": "03cd3997-d181-4a62-809b-6efa2da07d68",
   "metadata": {
    "tags": []
   },
   "outputs": [
    {
     "name": "stdout",
     "output_type": "stream",
     "text": [
      "           Country  GDP_USD_billions\n",
      "0    United States          28781.08\n",
      "1            China          18532.63\n",
      "2          Germany           4591.10\n",
      "3            Japan           4110.45\n",
      "4            India           3937.01\n",
      "..             ...               ...\n",
      "65       Guatemala            110.04\n",
      "66            Oman            108.93\n",
      "67        Bulgaria            107.93\n",
      "68           Kenya            104.00\n",
      "69       Venezuela            102.33\n",
      "\n",
      "[70 rows x 2 columns]\n"
     ]
    }
   ],
   "source": [
    "query_statement = f\"SELECT * from {table_name} WHERE GDP_USD_billions >= 100\"\n",
    "query_result = run_query(query_statement, sql_connection)\n",
    "log_progress('Query execution complete. Process complete.')\n",
    "\n",
    "# Display the query result\n",
    "query_result"
   ]
  },
  {
   "cell_type": "markdown",
   "id": "fc069a68-48bd-434e-bf3c-535a92de9126",
   "metadata": {
    "tags": []
   },
   "source": [
    "## 5. Logging the Process\n",
    "Finally, let's check the log file to see the recorded steps."
   ]
  },
  {
   "cell_type": "code",
   "execution_count": 40,
   "id": "b232262d-fd7e-4948-8169-dfd7f19cba23",
   "metadata": {
    "tags": []
   },
   "outputs": [
    {
     "name": "stdout",
     "output_type": "stream",
     "text": [
      "2024-Aug-21-15:17:14 : Preliminaries complete. Initiating ETL process.\n",
      "2024-Aug-21-15:17:15 : Data extraction complete. Initiating Transformation process.\n",
      "2024-Aug-21-15:17:15 : Data transformation complete. Initiating loading process.\n",
      "2024-Aug-21-15:17:15 : Data saved to CSV file.\n",
      "2024-Aug-21-15:17:15 : SQL Connection initiated.\n",
      "2024-Aug-21-15:17:15 : Data loaded to Database as table. Running the query.\n",
      "2024-Aug-21-15:18:37 : Query execution complete. Process complete.\n",
      "\n"
     ]
    }
   ],
   "source": [
    "# Read the log file\n",
    "with open(\"./etl_project_log.txt\", \"r\") as f:\n",
    "    log_content = f.read()\n",
    "\n",
    "print(log_content)"
   ]
  }
 ],
 "metadata": {
  "kernelspec": {
   "display_name": "Python 3 (ipykernel)",
   "language": "python",
   "name": "python3"
  },
  "language_info": {
   "codemirror_mode": {
    "name": "ipython",
    "version": 3
   },
   "file_extension": ".py",
   "mimetype": "text/x-python",
   "name": "python",
   "nbconvert_exporter": "python",
   "pygments_lexer": "ipython3",
   "version": "3.11.7"
  }
 },
 "nbformat": 4,
 "nbformat_minor": 5
}
